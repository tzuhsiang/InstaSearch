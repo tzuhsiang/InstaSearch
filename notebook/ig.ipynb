{
 "cells": [
  {
   "cell_type": "code",
   "execution_count": 65,
   "metadata": {},
   "outputs": [],
   "source": [
    "import json\n",
    "import pandas as pd\n",
    "import datetime\n",
    "\n",
    "\n",
    "json_file='/Users/Hsiang/sideproject/notebook/jojo_eat_1114/your_instagram_activity/content/posts_1.json'\n",
    "\n",
    "# 假設你的 JSON 檔案名稱為 'account_information.json'\n",
    "with open(json_file, 'r', encoding='utf-8') as f:\n",
    "    data = json.load(f)\n",
    "\n",
    "# # 假設你的貼文資料在 data['posts'] 中，且每筆資料都是一個 dict\n",
    "# df = pd.DataFrame(data['posts'])\n",
    "\n",
    "# # 將 DataFrame 存成 CSV 檔案\n",
    "# df.to_csv('posts.csv', index=False, encoding='utf-8-sig')\n"
   ]
  },
  {
   "cell_type": "code",
   "execution_count": 67,
   "metadata": {},
   "outputs": [],
   "source": [
    "content=[]\n",
    "\n",
    "\n",
    "for i in data:\n",
    "    try:\n",
    "        empty_dic={}\n",
    "        empty_dic[\"media\"]=i[\"media\"]\n",
    "        empty_dic[\"title\"]=i[\"title\"].encode('latin1').decode('utf-8')\n",
    "        empty_dic[\"creation_timestamp\"]=datetime.datetime.fromtimestamp(i[\"creation_timestamp\"]).isoformat()\n",
    "\n",
    "        content.append(empty_dic)\n",
    "    except:\n",
    "        pass\n"
   ]
  },
  {
   "cell_type": "code",
   "execution_count": 68,
   "metadata": {},
   "outputs": [
    {
     "name": "stdout",
     "output_type": "stream",
     "text": [
      "🚩桃園\n",
      "\n",
      "今年一月新開幕的水果三明治專賣店，雖然沒有趕上草莓季，但是現在還是有水蜜桃口味、藍莓抹茶口味，水果多汁又冰冰涼涼的，吃起來也很清爽～\n",
      "\n",
      "不過這個價位開在桃園挺危險的呢😅希望可以順利存活讓有趣的商店多一家～ 🙌\n",
      "\n",
      "#日式三明治 #水果三明治 #桃園美食 #桃園點心\n",
      "2024-04-20T22:56:51\n"
     ]
    }
   ],
   "source": [
    "print(content[101][\"title\"])\n",
    "print(content[101][\"creation_timestamp\"])"
   ]
  },
  {
   "cell_type": "code",
   "execution_count": 69,
   "metadata": {},
   "outputs": [
    {
     "name": "stdout",
     "output_type": "stream",
     "text": [
      "List 已成功存到 data.json 檔案中！\n"
     ]
    }
   ],
   "source": [
    "# 將 list 存成 JSON 檔案\n",
    "with open(\"ig_data.json\", \"w\", encoding=\"utf-8\") as f:\n",
    "    json.dump(content,f, ensure_ascii=False, indent=4)\n",
    "\n",
    "print(\"List 已成功存到 data.json 檔案中！\")\n"
   ]
  },
  {
   "cell_type": "code",
   "execution_count": 46,
   "metadata": {},
   "outputs": [
    {
     "name": "stdout",
     "output_type": "stream",
     "text": [
      "🚩台北大安\n",
      "\n",
      "發現家附近有印加秘魯料理店\n",
      "果斷決定安森跑步完來嚐嚐\n",
      "\n",
      "聽說烤雞是用秘魯空運的炭火烤爐做出來\n",
      "吃起來好像比較清爽？\n",
      "\n",
      "薯條脆脆的不錯吃\n",
      "\n",
      "前菜的湯品裡面加了胡蘿蔔跟藜麥飯，老闆娘說這是秘魯的道地吃法 （絕對不是不小心掉進去🤣）\n",
      "\n",
      "另外分別點了青醬燴牛肉藜麥飯跟牛肉彩椒藜麥飯，豐富的色彩令人食慾大開，牛肉採用嫩肩里肌部位，Q軟好嚼、口感豐盈，搭配紅椒、洋蔥、番茄，整體口味微酸微甜好下飯。\n",
      "\n",
      "可惜沒有點最特別的紫玉米汁，網路食記都大推，聽說裡面有鳳梨、肉桂、蘋果、檸檬、糖、丁香，妥妥的綜合果汁，光是想像就好好喝，只好下次再來試試看了！\n"
     ]
    }
   ],
   "source": [
    "a=data[\"ig_archived_post_media\"][0]\n",
    "\n",
    "# print(json.dumps(a[\"title\"], ensure_ascii=False, indent=2))\n",
    "\n",
    "\n",
    "\n",
    "# 原始取得的字串，顯示為 \"ð©...\"\n",
    "raw_title = a[\"title\"]\n",
    "\n",
    "# 將該字串先轉成 bytes，假設當初誤以 latin1 解碼\n",
    "corrected_title = raw_title.encode('latin1').decode('utf-8')\n",
    "\n",
    "print(corrected_title)\n"
   ]
  },
  {
   "cell_type": "code",
   "execution_count": 33,
   "metadata": {},
   "outputs": [
    {
     "name": "stdout",
     "output_type": "stream",
     "text": [
      "1670491370\n"
     ]
    }
   ],
   "source": [
    "print(a[\"creation_timestamp\"])"
   ]
  },
  {
   "cell_type": "code",
   "execution_count": 34,
   "metadata": {},
   "outputs": [
    {
     "name": "stdout",
     "output_type": "stream",
     "text": [
      "[]\n"
     ]
    }
   ],
   "source": [
    "print(a[\"media\"])"
   ]
  },
  {
   "cell_type": "code",
   "execution_count": 36,
   "metadata": {},
   "outputs": [
    {
     "name": "stdout",
     "output_type": "stream",
     "text": [
      "本地時間: 2024-07-25 22:58:04\n",
      "UTC 時間: 2024-07-25 14:58:04\n"
     ]
    }
   ],
   "source": [
    "import datetime\n",
    "\n",
    "timestamp = 1721919484\n",
    "\n",
    "# 取得本地時間（系統預設時區）\n",
    "local_time = datetime.datetime.fromtimestamp(timestamp)\n",
    "print(\"本地時間:\", local_time.strftime(\"%Y-%m-%d %H:%M:%S\"))\n",
    "\n",
    "# 取得 UTC 時間，利用 timezone.utc 讓 datetime 成為 timezone-aware 物件\n",
    "utc_time = datetime.datetime.fromtimestamp(timestamp, datetime.timezone.utc)\n",
    "print(\"UTC 時間:\", utc_time.strftime(\"%Y-%m-%d %H:%M:%S\"))\n"
   ]
  },
  {
   "cell_type": "code",
   "execution_count": null,
   "metadata": {},
   "outputs": [],
   "source": []
  }
 ],
 "metadata": {
  "kernelspec": {
   "display_name": ".venv",
   "language": "python",
   "name": "python3"
  },
  "language_info": {
   "codemirror_mode": {
    "name": "ipython",
    "version": 3
   },
   "file_extension": ".py",
   "mimetype": "text/x-python",
   "name": "python",
   "nbconvert_exporter": "python",
   "pygments_lexer": "ipython3",
   "version": "3.13.1"
  }
 },
 "nbformat": 4,
 "nbformat_minor": 2
}
