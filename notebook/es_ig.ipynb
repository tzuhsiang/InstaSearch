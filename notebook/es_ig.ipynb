{
 "cells": [
  {
   "cell_type": "code",
   "execution_count": 7,
   "metadata": {},
   "outputs": [
    {
     "name": "stdout",
     "output_type": "stream",
     "text": [
      "/Users/Hsiang/sideproject/.venv/bin/python\n"
     ]
    }
   ],
   "source": [
    "!which python"
   ]
  },
  {
   "cell_type": "code",
   "execution_count": 8,
   "metadata": {},
   "outputs": [
    {
     "name": "stdout",
     "output_type": "stream",
     "text": [
      "Collecting elasticsearch\n",
      "  Using cached elasticsearch-8.17.1-py3-none-any.whl.metadata (8.8 kB)\n",
      "Collecting elastic-transport<9,>=8.15.1 (from elasticsearch)\n",
      "  Using cached elastic_transport-8.17.0-py3-none-any.whl.metadata (3.6 kB)\n",
      "Requirement already satisfied: urllib3<3,>=1.26.2 in /Users/Hsiang/sideproject/.venv/lib/python3.13/site-packages (from elastic-transport<9,>=8.15.1->elasticsearch) (2.3.0)\n",
      "Requirement already satisfied: certifi in /Users/Hsiang/sideproject/.venv/lib/python3.13/site-packages (from elastic-transport<9,>=8.15.1->elasticsearch) (2025.1.31)\n",
      "Using cached elasticsearch-8.17.1-py3-none-any.whl (653 kB)\n",
      "Using cached elastic_transport-8.17.0-py3-none-any.whl (64 kB)\n",
      "Installing collected packages: elastic-transport, elasticsearch\n",
      "Successfully installed elastic-transport-8.17.0 elasticsearch-8.17.1\n",
      "\n",
      "\u001b[1m[\u001b[0m\u001b[34;49mnotice\u001b[0m\u001b[1;39;49m]\u001b[0m\u001b[39;49m A new release of pip is available: \u001b[0m\u001b[31;49m25.0\u001b[0m\u001b[39;49m -> \u001b[0m\u001b[32;49m25.0.1\u001b[0m\n",
      "\u001b[1m[\u001b[0m\u001b[34;49mnotice\u001b[0m\u001b[1;39;49m]\u001b[0m\u001b[39;49m To update, run: \u001b[0m\u001b[32;49mpip install --upgrade pip\u001b[0m\n"
     ]
    }
   ],
   "source": [
    "!python -m pip install elasticsearch"
   ]
  },
  {
   "cell_type": "code",
   "execution_count": 9,
   "metadata": {},
   "outputs": [
    {
     "name": "stdout",
     "output_type": "stream",
     "text": [
      "✅ 成功連接 Elasticsearch\n"
     ]
    }
   ],
   "source": [
    "from elasticsearch import Elasticsearch\n",
    "\n",
    "# 連接 Elasticsearch（無需帳號密碼）\n",
    "es = Elasticsearch(\"http://localhost:9200\")\n",
    "\n",
    "# 測試連線\n",
    "if es.ping():\n",
    "    print(\"✅ 成功連接 Elasticsearch\")\n",
    "else:\n",
    "    print(\"❌ 連接失敗\")\n"
   ]
  },
  {
   "cell_type": "code",
   "execution_count": 10,
   "metadata": {},
   "outputs": [
    {
     "name": "stdout",
     "output_type": "stream",
     "text": [
      "✅ 索引 'ig_data' 已建立\n"
     ]
    }
   ],
   "source": [
    "index_name = \"ig_data\"\n",
    "\n",
    "# 如果索引已經存在，則刪除並重新建立\n",
    "if es.indices.exists(index=index_name):\n",
    "    es.indices.delete(index=index_name)\n",
    "\n",
    "es.indices.create(index=index_name, body={\n",
    "    \"settings\": {\n",
    "        \"number_of_shards\": 1,\n",
    "        \"number_of_replicas\": 0\n",
    "    },\n",
    "    \"mappings\": {\n",
    "        \"properties\": {\n",
    "            \"content\": {\"type\": \"text\"},\n",
    "            \"creation_timestamp\": {\"type\": \"date\"}\n",
    "        }\n",
    "    }\n",
    "})\n",
    "\n",
    "print(f\"✅ 索引 '{index_name}' 已建立\")\n"
   ]
  },
  {
   "cell_type": "code",
   "execution_count": 12,
   "metadata": {},
   "outputs": [],
   "source": [
    "import json\n",
    "json_file='ig_data.json'\n",
    "\n",
    "# 假設你的 JSON 檔案名稱為 'account_information.json'\n",
    "with open(json_file, 'r', encoding='utf-8') as f:\n",
    "    data = json.load(f)"
   ]
  },
  {
   "cell_type": "code",
   "execution_count": 14,
   "metadata": {},
   "outputs": [
    {
     "name": "stdout",
     "output_type": "stream",
     "text": [
      "✅ 文本已寫入，ID: k3OcDZUBGnnnKoadKq7R\n",
      "✅ 文本已寫入，ID: lHOcDZUBGnnnKoadKq7X\n",
      "✅ 文本已寫入，ID: lXOcDZUBGnnnKoadKq7b\n",
      "✅ 文本已寫入，ID: lnOcDZUBGnnnKoadKq7f\n",
      "✅ 文本已寫入，ID: l3OcDZUBGnnnKoadKq7i\n",
      "✅ 文本已寫入，ID: mHOcDZUBGnnnKoadKq7l\n",
      "✅ 文本已寫入，ID: mXOcDZUBGnnnKoadKq7o\n",
      "✅ 文本已寫入，ID: mnOcDZUBGnnnKoadKq7q\n",
      "✅ 文本已寫入，ID: m3OcDZUBGnnnKoadKq7t\n",
      "✅ 文本已寫入，ID: nHOcDZUBGnnnKoadKq7v\n",
      "✅ 文本已寫入，ID: nXOcDZUBGnnnKoadKq7x\n",
      "✅ 文本已寫入，ID: nnOcDZUBGnnnKoadKq70\n",
      "✅ 文本已寫入，ID: n3OcDZUBGnnnKoadKq72\n",
      "✅ 文本已寫入，ID: oHOcDZUBGnnnKoadKq74\n",
      "✅ 文本已寫入，ID: oXOcDZUBGnnnKoadKq76\n",
      "✅ 文本已寫入，ID: onOcDZUBGnnnKoadKq78\n",
      "✅ 文本已寫入，ID: o3OcDZUBGnnnKoadKq7_\n",
      "✅ 文本已寫入，ID: pHOcDZUBGnnnKoadK64B\n",
      "✅ 文本已寫入，ID: pXOcDZUBGnnnKoadK64E\n",
      "✅ 文本已寫入，ID: pnOcDZUBGnnnKoadK64G\n",
      "✅ 文本已寫入，ID: p3OcDZUBGnnnKoadK64I\n",
      "✅ 文本已寫入，ID: qHOcDZUBGnnnKoadK64K\n",
      "✅ 文本已寫入，ID: qXOcDZUBGnnnKoadK64L\n",
      "✅ 文本已寫入，ID: qnOcDZUBGnnnKoadK64N\n",
      "✅ 文本已寫入，ID: q3OcDZUBGnnnKoadK64P\n",
      "✅ 文本已寫入，ID: rHOcDZUBGnnnKoadK64S\n",
      "✅ 文本已寫入，ID: rXOcDZUBGnnnKoadK64U\n",
      "✅ 文本已寫入，ID: rnOcDZUBGnnnKoadK64W\n",
      "✅ 文本已寫入，ID: r3OcDZUBGnnnKoadK64Y\n",
      "✅ 文本已寫入，ID: sHOcDZUBGnnnKoadK64b\n",
      "✅ 文本已寫入，ID: sXOcDZUBGnnnKoadK64d\n",
      "✅ 文本已寫入，ID: snOcDZUBGnnnKoadK64f\n",
      "✅ 文本已寫入，ID: s3OcDZUBGnnnKoadK64h\n",
      "✅ 文本已寫入，ID: tHOcDZUBGnnnKoadK64j\n",
      "✅ 文本已寫入，ID: tXOcDZUBGnnnKoadK64l\n",
      "✅ 文本已寫入，ID: tnOcDZUBGnnnKoadK64n\n",
      "✅ 文本已寫入，ID: t3OcDZUBGnnnKoadK64p\n",
      "✅ 文本已寫入，ID: uHOcDZUBGnnnKoadK64r\n",
      "✅ 文本已寫入，ID: uXOcDZUBGnnnKoadK64u\n",
      "✅ 文本已寫入，ID: unOcDZUBGnnnKoadK64w\n",
      "✅ 文本已寫入，ID: u3OcDZUBGnnnKoadK64y\n",
      "✅ 文本已寫入，ID: vHOcDZUBGnnnKoadK640\n",
      "✅ 文本已寫入，ID: vXOcDZUBGnnnKoadK642\n",
      "✅ 文本已寫入，ID: vnOcDZUBGnnnKoadK645\n",
      "✅ 文本已寫入，ID: v3OcDZUBGnnnKoadK647\n",
      "✅ 文本已寫入，ID: wHOcDZUBGnnnKoadK649\n",
      "✅ 文本已寫入，ID: wXOcDZUBGnnnKoadK64_\n",
      "✅ 文本已寫入，ID: wnOcDZUBGnnnKoadK65B\n",
      "✅ 文本已寫入，ID: w3OcDZUBGnnnKoadK65D\n",
      "✅ 文本已寫入，ID: xHOcDZUBGnnnKoadK65F\n",
      "✅ 文本已寫入，ID: xXOcDZUBGnnnKoadK65G\n",
      "✅ 文本已寫入，ID: xnOcDZUBGnnnKoadK65I\n",
      "✅ 文本已寫入，ID: x3OcDZUBGnnnKoadK65K\n",
      "✅ 文本已寫入，ID: yHOcDZUBGnnnKoadK65M\n",
      "✅ 文本已寫入，ID: yXOcDZUBGnnnKoadK65N\n",
      "✅ 文本已寫入，ID: ynOcDZUBGnnnKoadK65P\n",
      "✅ 文本已寫入，ID: y3OcDZUBGnnnKoadK65R\n",
      "✅ 文本已寫入，ID: zHOcDZUBGnnnKoadK65S\n",
      "✅ 文本已寫入，ID: zXOcDZUBGnnnKoadK65U\n",
      "✅ 文本已寫入，ID: znOcDZUBGnnnKoadK65X\n",
      "✅ 文本已寫入，ID: z3OcDZUBGnnnKoadK65Z\n",
      "✅ 文本已寫入，ID: 0HOcDZUBGnnnKoadK65b\n",
      "✅ 文本已寫入，ID: 0XOcDZUBGnnnKoadK65d\n",
      "✅ 文本已寫入，ID: 0nOcDZUBGnnnKoadK65f\n",
      "✅ 文本已寫入，ID: 03OcDZUBGnnnKoadK65g\n",
      "✅ 文本已寫入，ID: 1HOcDZUBGnnnKoadK65i\n",
      "✅ 文本已寫入，ID: 1XOcDZUBGnnnKoadK65k\n",
      "✅ 文本已寫入，ID: 1nOcDZUBGnnnKoadK65l\n",
      "✅ 文本已寫入，ID: 13OcDZUBGnnnKoadK65n\n",
      "✅ 文本已寫入，ID: 2HOcDZUBGnnnKoadK65o\n",
      "✅ 文本已寫入，ID: 2XOcDZUBGnnnKoadK65q\n",
      "✅ 文本已寫入，ID: 2nOcDZUBGnnnKoadK65s\n",
      "✅ 文本已寫入，ID: 23OcDZUBGnnnKoadK65t\n",
      "✅ 文本已寫入，ID: 3HOcDZUBGnnnKoadK65v\n",
      "✅ 文本已寫入，ID: 3XOcDZUBGnnnKoadK65w\n",
      "✅ 文本已寫入，ID: 3nOcDZUBGnnnKoadK65y\n",
      "✅ 文本已寫入，ID: 33OcDZUBGnnnKoadK650\n",
      "✅ 文本已寫入，ID: 4HOcDZUBGnnnKoadK651\n",
      "✅ 文本已寫入，ID: 4XOcDZUBGnnnKoadK653\n",
      "✅ 文本已寫入，ID: 4nOcDZUBGnnnKoadK654\n",
      "✅ 文本已寫入，ID: 43OcDZUBGnnnKoadK656\n",
      "✅ 文本已寫入，ID: 5HOcDZUBGnnnKoadK657\n",
      "✅ 文本已寫入，ID: 5XOcDZUBGnnnKoadK659\n",
      "✅ 文本已寫入，ID: 5nOcDZUBGnnnKoadK65_\n",
      "✅ 文本已寫入，ID: 53OcDZUBGnnnKoadK66A\n",
      "✅ 文本已寫入，ID: 6HOcDZUBGnnnKoadK66C\n",
      "✅ 文本已寫入，ID: 6XOcDZUBGnnnKoadK66D\n",
      "✅ 文本已寫入，ID: 6nOcDZUBGnnnKoadK66F\n",
      "✅ 文本已寫入，ID: 63OcDZUBGnnnKoadK66G\n",
      "✅ 文本已寫入，ID: 7HOcDZUBGnnnKoadK66I\n",
      "✅ 文本已寫入，ID: 7XOcDZUBGnnnKoadK66K\n",
      "✅ 文本已寫入，ID: 7nOcDZUBGnnnKoadK66M\n",
      "✅ 文本已寫入，ID: 73OcDZUBGnnnKoadK66N\n",
      "✅ 文本已寫入，ID: 8HOcDZUBGnnnKoadK66P\n",
      "✅ 文本已寫入，ID: 8XOcDZUBGnnnKoadK66R\n",
      "✅ 文本已寫入，ID: 8nOcDZUBGnnnKoadK66T\n",
      "✅ 文本已寫入，ID: 83OcDZUBGnnnKoadK66V\n",
      "✅ 文本已寫入，ID: 9HOcDZUBGnnnKoadK66X\n",
      "✅ 文本已寫入，ID: 9XOcDZUBGnnnKoadK66Y\n",
      "✅ 文本已寫入，ID: 9nOcDZUBGnnnKoadK66a\n",
      "✅ 文本已寫入，ID: 93OcDZUBGnnnKoadK66c\n",
      "✅ 文本已寫入，ID: -HOcDZUBGnnnKoadK66e\n",
      "✅ 文本已寫入，ID: -XOcDZUBGnnnKoadK66g\n",
      "✅ 文本已寫入，ID: -nOcDZUBGnnnKoadK66i\n",
      "✅ 文本已寫入，ID: -3OcDZUBGnnnKoadK66k\n",
      "✅ 文本已寫入，ID: _HOcDZUBGnnnKoadK66m\n",
      "✅ 文本已寫入，ID: _XOcDZUBGnnnKoadK66o\n",
      "✅ 文本已寫入，ID: _nOcDZUBGnnnKoadK66q\n",
      "✅ 文本已寫入，ID: _3OcDZUBGnnnKoadK66t\n",
      "✅ 文本已寫入，ID: AHOcDZUBGnnnKoadK6-v\n",
      "✅ 文本已寫入，ID: AXOcDZUBGnnnKoadK6-x\n",
      "✅ 文本已寫入，ID: AnOcDZUBGnnnKoadK6-z\n",
      "✅ 文本已寫入，ID: A3OcDZUBGnnnKoadK6-1\n",
      "✅ 文本已寫入，ID: BHOcDZUBGnnnKoadK6-3\n",
      "✅ 文本已寫入，ID: BXOcDZUBGnnnKoadK6-5\n",
      "✅ 文本已寫入，ID: BnOcDZUBGnnnKoadK6-7\n",
      "✅ 文本已寫入，ID: B3OcDZUBGnnnKoadK6-9\n",
      "✅ 文本已寫入，ID: CHOcDZUBGnnnKoadK6_A\n",
      "✅ 文本已寫入，ID: CXOcDZUBGnnnKoadK6_C\n",
      "✅ 文本已寫入，ID: CnOcDZUBGnnnKoadK6_E\n",
      "✅ 文本已寫入，ID: C3OcDZUBGnnnKoadK6_G\n",
      "✅ 文本已寫入，ID: DHOcDZUBGnnnKoadK6_I\n",
      "✅ 文本已寫入，ID: DXOcDZUBGnnnKoadK6_K\n",
      "✅ 文本已寫入，ID: DnOcDZUBGnnnKoadK6_M\n",
      "✅ 文本已寫入，ID: D3OcDZUBGnnnKoadK6_O\n",
      "✅ 文本已寫入，ID: EHOcDZUBGnnnKoadK6_Q\n",
      "✅ 文本已寫入，ID: EXOcDZUBGnnnKoadK6_R\n",
      "✅ 文本已寫入，ID: EnOcDZUBGnnnKoadK6_T\n",
      "✅ 文本已寫入，ID: E3OcDZUBGnnnKoadK6_U\n",
      "✅ 文本已寫入，ID: FHOcDZUBGnnnKoadK6_W\n",
      "✅ 文本已寫入，ID: FXOcDZUBGnnnKoadK6_Y\n",
      "✅ 文本已寫入，ID: FnOcDZUBGnnnKoadK6_a\n",
      "✅ 文本已寫入，ID: F3OcDZUBGnnnKoadK6_b\n",
      "✅ 文本已寫入，ID: GHOcDZUBGnnnKoadK6_d\n",
      "✅ 文本已寫入，ID: GXOcDZUBGnnnKoadK6_e\n",
      "✅ 文本已寫入，ID: GnOcDZUBGnnnKoadK6_g\n",
      "✅ 文本已寫入，ID: G3OcDZUBGnnnKoadK6_i\n",
      "✅ 文本已寫入，ID: HHOcDZUBGnnnKoadK6_j\n",
      "✅ 文本已寫入，ID: HXOcDZUBGnnnKoadK6_l\n",
      "✅ 文本已寫入，ID: HnOcDZUBGnnnKoadK6_n\n",
      "✅ 文本已寫入，ID: H3OcDZUBGnnnKoadK6_p\n",
      "✅ 文本已寫入，ID: IHOcDZUBGnnnKoadK6_r\n",
      "✅ 文本已寫入，ID: IXOcDZUBGnnnKoadK6_s\n",
      "✅ 文本已寫入，ID: InOcDZUBGnnnKoadK6_u\n",
      "✅ 文本已寫入，ID: I3OcDZUBGnnnKoadK6_v\n",
      "✅ 文本已寫入，ID: JHOcDZUBGnnnKoadK6_x\n",
      "✅ 文本已寫入，ID: JXOcDZUBGnnnKoadK6_y\n",
      "✅ 文本已寫入，ID: JnOcDZUBGnnnKoadK6_0\n",
      "✅ 文本已寫入，ID: J3OcDZUBGnnnKoadK6_1\n",
      "✅ 文本已寫入，ID: KHOcDZUBGnnnKoadK6_3\n",
      "✅ 文本已寫入，ID: KXOcDZUBGnnnKoadK6_5\n",
      "✅ 文本已寫入，ID: KnOcDZUBGnnnKoadK6_7\n",
      "✅ 文本已寫入，ID: K3OcDZUBGnnnKoadK6_8\n",
      "✅ 文本已寫入，ID: LHOcDZUBGnnnKoadK6_-\n",
      "✅ 文本已寫入，ID: LXOcDZUBGnnnKoadK6__\n",
      "✅ 文本已寫入，ID: LnOcDZUBGnnnKoadLK8B\n",
      "✅ 文本已寫入，ID: L3OcDZUBGnnnKoadLK8D\n",
      "✅ 文本已寫入，ID: MHOcDZUBGnnnKoadLK8E\n",
      "✅ 文本已寫入，ID: MXOcDZUBGnnnKoadLK8G\n",
      "✅ 文本已寫入，ID: MnOcDZUBGnnnKoadLK8H\n",
      "✅ 文本已寫入，ID: M3OcDZUBGnnnKoadLK8J\n",
      "✅ 文本已寫入，ID: NHOcDZUBGnnnKoadLK8L\n",
      "✅ 文本已寫入，ID: NXOcDZUBGnnnKoadLK8N\n",
      "✅ 文本已寫入，ID: NnOcDZUBGnnnKoadLK8P\n",
      "✅ 文本已寫入，ID: N3OcDZUBGnnnKoadLK8R\n",
      "✅ 文本已寫入，ID: OHOcDZUBGnnnKoadLK8T\n",
      "✅ 文本已寫入，ID: OXOcDZUBGnnnKoadLK8U\n",
      "✅ 文本已寫入，ID: OnOcDZUBGnnnKoadLK8W\n",
      "✅ 文本已寫入，ID: O3OcDZUBGnnnKoadLK8X\n"
     ]
    }
   ],
   "source": [
    "import datetime\n",
    "\n",
    "\n",
    "for i in data:\n",
    "    # 要插入的文本資料\n",
    "    doc={}\n",
    "    # 讀取data資料\n",
    "    doc[\"content\"]=i[\"title\"]\n",
    "    doc[\"datetime\"]=i[\"creation_timestamp\"]\n",
    "    doc[\"timestamp\"]=datetime.datetime.now()\n",
    "\n",
    "    # 插入文件（Elasticsearch 會自動生成 ID）\n",
    "    res = es.index(index=index_name, body=doc)\n",
    "    print(f\"✅ 文本已寫入，ID: {res['_id']}\")\n",
    "\n",
    "\n"
   ]
  },
  {
   "cell_type": "code",
   "execution_count": null,
   "metadata": {},
   "outputs": [
    {
     "name": "stdout",
     "output_type": "stream",
     "text": [
      "E3OcDZUBGnnnKoadK6_U\n",
      "6HOcDZUBGnnnKoadK66C\n",
      "BnOcDZUBGnnnKoadK6-7\n",
      "EnOcDZUBGnnnKoadK6_T\n",
      "q3OcDZUBGnnnKoadK64P\n",
      "tnOcDZUBGnnnKoadK64n\n",
      "znOcDZUBGnnnKoadK65X\n",
      "7XOcDZUBGnnnKoadK66K\n",
      "nXOcDZUBGnnnKoadKq7x\n",
      "-3OcDZUBGnnnKoadK66k\n",
      "[{'_index': 'ig_data', '_id': 'E3OcDZUBGnnnKoadK6_U', '_score': 2.269832, '_source': {'content': '🚩台北大安\\n\\n按照過往經驗水果類拉麵通常不能太期待，結果！小編完全被 #柑橘拉麵 征服了～ 柑橘味與拉麵完美結合，好好吃🤤\\n\\n店內含有鹽味高湯免費續，不論是拉麵湯太濃可以中和，或是點乾拉麵的也可以有高湯可以喝，太棒了👏\\n\\n柑橘鹽味 210元\\n#大安美食 #日式拉麵', 'datetime': '2024-03-13T13:21:10', 'timestamp': '2025-02-16T15:14:53.525237'}}, {'_index': 'ig_data', '_id': '6HOcDZUBGnnnKoadK66C', '_score': 2.2675972, '_source': {'content': '🚩台北民生\\n\\n店面小小但每次都有人在外面排隊，這次朝聖一下點了鹽味拉麵（豪億製麵），湯頭清爽好喝不死鹹，肉的部分不像有些拉麵店是肥肥的叉燒，是紮實的🤩 搭配豬肉與雞胸用舒肥的方式料理，吃起來不油膩，因為清甜好喝第一次吃拉麵把整碗湯喝個精光呢(舔嘴唇） \\n\\n鹽味拉麵 160元\\n#民生美食 #日式拉麵 #台北拉麵 #長生塩人', 'datetime': '2024-06-30T18:05:05', 'timestamp': '2025-02-16T15:14:53.442483'}}, {'_index': 'ig_data', '_id': 'BnOcDZUBGnnnKoadK6-7', '_score': 2.248021, '_source': {'content': '🚩義大利拿波里\\n\\n前菜是淡菜、主菜是淡菜義大利麵，不可能是因為在海邊就滿滿的淡菜吧🤣 \\n\\n正宗義大利麵條果然不會煮到全熟，麵條有點硬但又有嚼勁，簡單地淡菜加義大利麵就是一道主食了～\\n\\n前菜：淡菜\\n主菜：淡菜蛤蜊義大利麵\\n甜點：覆盆子奶油蛋糕\\n\\n#拿波里 #拿波里義大利麵🍝', 'datetime': '2024-04-04T03:27:58', 'timestamp': '2025-02-16T15:14:53.500114'}}, {'_index': 'ig_data', '_id': 'EnOcDZUBGnnnKoadK6_T', '_score': 2.2130504, '_source': {'content': '🚩台北大安\\n\\n如果是喜歡清淡一點的雞湯可以嘗試，雞跟豬都很有味道，感覺有被炙燒過，還可以免費加麵。\\n\\n可惜沒有菜，肉量兩塊🥲\\n泡沫系雞白湯拉麵 290元\\n\\n#大安美食 #日式拉麵 #森麵堂', 'datetime': '2024-03-15T12:44:55', 'timestamp': '2025-02-16T15:14:53.523687'}}, {'_index': 'ig_data', '_id': 'q3OcDZUBGnnnKoadK64P', '_score': 2.2124534, '_source': {'content': '🚩台北西門\\n\\n義大利麵的靈魂就是那醬汁，醬汁不膩且順口，那麼整個感覺就會對了😍 \\n\\n重口味的可以選擇麻辣奶油醬，再配上爆炸多的蛤蠣，從第一口吃下去開胃，接著中間越吃越涮嘴，再到最後一口辣到不要不要，好讚👍而喜歡有嚼勁口感的麵條可以選擇筆管麵，搭著標配的醬汁也絕對是平均水準之上。\\n\\n麻辣奶油爆炸蛤蠣麵 299元\\n麻辣奶油松阪豬筆管麵340元\\n#西門美食 #義大利麵推薦 #台北義大利麵', 'datetime': '2024-12-26T21:52:32', 'timestamp': '2025-02-16T15:14:53.327880'}}, {'_index': 'ig_data', '_id': 'tnOcDZUBGnnnKoadK64n', '_score': 2.2056327, '_source': {'content': '🚩台北東門\\n\\n被冰淇淋和炸雞耽誤的拉麵店。\\n\\n最印象深刻的絕對是秘製炸去骨雞腿🐓，有椒麻味但不會辣到舌頭，吃了很開胃。麵後甜點的冰淇淋🍦搭配黑糖醬汁讓人意猶未盡，但布丁就真的是很普通。\\n\\n特製雙倍叉燒烏骨雞白湯340元\\n秘製去骨雞腿肉 150元\\n濃醇慢烤燒布丁 90元\\n\\n#台北拉麵 #日式拉麵 #雞白湯拉麵 #黑糖冰淇淋 #麵屋羽金', 'datetime': '2024-11-30T08:12:43', 'timestamp': '2025-02-16T15:14:53.351551'}}, {'_index': 'ig_data', '_id': 'znOcDZUBGnnnKoadK65X', '_score': 2.1669292, '_source': {'content': '🚩台北大安\\n\\n#加奶油的麵包很好吃\\n因為可以近距離看到老闆料理，發現餐點的麵包不只在鐵板上煎，老闆還會加奶油，讓整個麵包體吃起來又香又脆。\\n\\n如果二訪會想要單買用奶油煎過的麵包🤤\\n#大安早餐 #瑞安早餐', 'datetime': '2024-09-29T00:34:41', 'timestamp': '2025-02-16T15:14:53.399683'}}, {'_index': 'ig_data', '_id': '7XOcDZUBGnnnKoadK66K', '_score': 2.0941894, '_source': {'content': '🚩台北大安\\n\\n每天早上上班經過都看到一堆人在排隊，實在是太令人好奇，趁著週六早上也來去購買。店家窗前琳瑯滿目的麵包，至少10種以上的口味，麵包控簡直會瘋掉😍麵包吃起來簡單明瞭，麵包細緻內餡飽滿，CP值很夠呢😙\\n\\n鮪魚口味 40元\\n乾酪口味 35元\\n雙層肉鬆 35元', 'datetime': '2024-06-12T15:35:12', 'timestamp': '2025-02-16T15:14:53.450801'}}, {'_index': 'ig_data', '_id': 'nXOcDZUBGnnnKoadKq7x', '_score': 2.0821772, '_source': {'content': '🚩北越河內\\n\\n#首推必買 越南法式麵包，烤肉微辣麵包現烤，超好吃！藉這個機會還體驗了在路邊坐著小板凳啃著麵包😂\\n\\n#推薦bbq\\n#大家一起坐路邊完全不奇怪\\n#食物現烤有熱有溫度有靈魂', 'datetime': '2025-01-31T21:16:56', 'timestamp': '2025-02-16T15:14:53.297999'}}, {'_index': 'ig_data', '_id': '-3OcDZUBGnnnKoadK66k', '_score': 2.0821772, '_source': {'content': '🚩台北中正\\n\\n濟南路上傳統紅燒牛肉麵，創立時間比小編出生民國還要早多多多，湯頭屬於重口味，牛肉大塊有嚼勁，整體味道純不複雜👍\\n\\n紅燒牛肉麵大碗210元\\n#牛肉麵 #中正區美食', 'datetime': '2024-04-18T10:25:53', 'timestamp': '2025-02-16T15:14:53.476438'}}]\n"
     ]
    }
   ],
   "source": [
    "query = {\n",
    "    \"query\": {\n",
    "        \"match\": {\n",
    "            \"content\": \"麵\"\n",
    "        }\n",
    "    }\n",
    "}\n",
    "\n",
    "response = es.search(index=index_name, body=query)\n",
    "\n",
    "for hit in response[\"hits\"][\"hits\"]:\n",
    "    print(hit['_id'])\n",
    "\n",
    "# print(response[\"hits\"][\"hits\"])\n",
    "\n",
    "# print(\"🔍 搜索結果：\")\n",
    "# for hit in response[\"hits\"][\"hits\"]:\n",
    "#     print(f\"📄 {hit['_source']['content']} (ID: {hit['_id']})\")\n"
   ]
  },
  {
   "cell_type": "code",
   "execution_count": 16,
   "metadata": {},
   "outputs": [
    {
     "name": "stdout",
     "output_type": "stream",
     "text": [
      "🗑️ 文本已刪除，ID: WGLU1ZQBGJlcZ1dj8AVv\n"
     ]
    }
   ],
   "source": [
    "# 先搜尋最新的一篇文章\n",
    "query = {\"query\": {\"match_all\": {}}}\n",
    "response = es.search(index=index_name, body=query)\n",
    "\n",
    "if response[\"hits\"][\"hits\"]:\n",
    "    doc_id = response[\"hits\"][\"hits\"][0][\"_id\"]  # 取得 ID\n",
    "    es.delete(index=index_name, id=doc_id)\n",
    "    print(f\"🗑️ 文本已刪除，ID: {doc_id}\")\n",
    "else:\n",
    "    print(\"❌ 沒有可刪除的文本\")\n"
   ]
  },
  {
   "cell_type": "code",
   "execution_count": 17,
   "metadata": {},
   "outputs": [
    {
     "name": "stdout",
     "output_type": "stream",
     "text": [
      "🗑️ 索引 'text_experiment' 已刪除\n"
     ]
    }
   ],
   "source": [
    "es.indices.delete(index=index_name)\n",
    "print(f\"🗑️ 索引 '{index_name}' 已刪除\")\n"
   ]
  },
  {
   "cell_type": "code",
   "execution_count": null,
   "metadata": {},
   "outputs": [],
   "source": []
  },
  {
   "cell_type": "code",
   "execution_count": 3,
   "metadata": {},
   "outputs": [],
   "source": []
  },
  {
   "cell_type": "code",
   "execution_count": null,
   "metadata": {},
   "outputs": [],
   "source": []
  }
 ],
 "metadata": {
  "kernelspec": {
   "display_name": ".venv",
   "language": "python",
   "name": "python3"
  },
  "language_info": {
   "codemirror_mode": {
    "name": "ipython",
    "version": 3
   },
   "file_extension": ".py",
   "mimetype": "text/x-python",
   "name": "python",
   "nbconvert_exporter": "python",
   "pygments_lexer": "ipython3",
   "version": "3.13.1"
  }
 },
 "nbformat": 4,
 "nbformat_minor": 2
}
