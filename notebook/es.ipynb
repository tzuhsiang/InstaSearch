{
 "cells": [
  {
   "cell_type": "code",
   "execution_count": 10,
   "metadata": {},
   "outputs": [
    {
     "name": "stdout",
     "output_type": "stream",
     "text": [
      "✅ 成功連接 Elasticsearch\n"
     ]
    }
   ],
   "source": [
    "from elasticsearch import Elasticsearch\n",
    "\n",
    "# 連接 Elasticsearch（無需帳號密碼）\n",
    "es = Elasticsearch(\"http://localhost:9200\")\n",
    "\n",
    "# 測試連線\n",
    "if es.ping():\n",
    "    print(\"✅ 成功連接 Elasticsearch\")\n",
    "else:\n",
    "    print(\"❌ 連接失敗\")\n"
   ]
  },
  {
   "cell_type": "code",
   "execution_count": 18,
   "metadata": {},
   "outputs": [
    {
     "name": "stdout",
     "output_type": "stream",
     "text": [
      "✅ 索引 'text_experiment' 已建立\n"
     ]
    }
   ],
   "source": [
    "index_name = \"text_experiment\"\n",
    "\n",
    "# 如果索引已經存在，則刪除並重新建立\n",
    "if es.indices.exists(index=index_name):\n",
    "    es.indices.delete(index=index_name)\n",
    "\n",
    "es.indices.create(index=index_name, body={\n",
    "    \"settings\": {\n",
    "        \"number_of_shards\": 1,\n",
    "        \"number_of_replicas\": 0\n",
    "    },\n",
    "    \"mappings\": {\n",
    "        \"properties\": {\n",
    "            \"title\": {\"type\": \"text\"},\n",
    "            \"content\": {\"type\": \"text\"},\n",
    "            \"created_at\": {\"type\": \"date\"}\n",
    "        }\n",
    "    }\n",
    "})\n",
    "\n",
    "print(f\"✅ 索引 '{index_name}' 已建立\")\n"
   ]
  },
  {
   "cell_type": "code",
   "execution_count": 21,
   "metadata": {},
   "outputs": [
    {
     "name": "stdout",
     "output_type": "stream",
     "text": [
      "✅ 文本已寫入，ID: XWLZ1ZQBGJlcZ1djSwVL\n"
     ]
    }
   ],
   "source": [
    "import datetime\n",
    "\n",
    "# 要插入的文本資料\n",
    "doc = {\n",
    "    \"title\": \"義大利麵店\",\n",
    "    \"content\": \"好吃的義大利麵店\",\n",
    "    \"created_at\": datetime.datetime.now()\n",
    "}\n",
    "\n",
    "# 插入文件（Elasticsearch 會自動生成 ID）\n",
    "res = es.index(index=index_name, body=doc)\n",
    "print(f\"✅ 文本已寫入，ID: {res['_id']}\")\n"
   ]
  },
  {
   "cell_type": "code",
   "execution_count": 23,
   "metadata": {},
   "outputs": [
    {
     "name": "stdout",
     "output_type": "stream",
     "text": [
      "🔍 搜索結果：\n",
      "📄 義大利麵店 (ID: XWLZ1ZQBGJlcZ1djSwVL)\n"
     ]
    }
   ],
   "source": [
    "query = {\n",
    "    \"query\": {\n",
    "        \"match\": {\n",
    "            \"content\": \"義大利\"\n",
    "        }\n",
    "    }\n",
    "}\n",
    "\n",
    "response = es.search(index=index_name, body=query)\n",
    "\n",
    "print(\"🔍 搜索結果：\")\n",
    "for hit in response[\"hits\"][\"hits\"]:\n",
    "    print(f\"📄 {hit['_source']['title']} (ID: {hit['_id']})\")\n"
   ]
  },
  {
   "cell_type": "code",
   "execution_count": 16,
   "metadata": {},
   "outputs": [
    {
     "name": "stdout",
     "output_type": "stream",
     "text": [
      "🗑️ 文本已刪除，ID: WGLU1ZQBGJlcZ1dj8AVv\n"
     ]
    }
   ],
   "source": [
    "# 先搜尋最新的一篇文章\n",
    "query = {\"query\": {\"match_all\": {}}}\n",
    "response = es.search(index=index_name, body=query)\n",
    "\n",
    "if response[\"hits\"][\"hits\"]:\n",
    "    doc_id = response[\"hits\"][\"hits\"][0][\"_id\"]  # 取得 ID\n",
    "    es.delete(index=index_name, id=doc_id)\n",
    "    print(f\"🗑️ 文本已刪除，ID: {doc_id}\")\n",
    "else:\n",
    "    print(\"❌ 沒有可刪除的文本\")\n"
   ]
  },
  {
   "cell_type": "code",
   "execution_count": 17,
   "metadata": {},
   "outputs": [
    {
     "name": "stdout",
     "output_type": "stream",
     "text": [
      "🗑️ 索引 'text_experiment' 已刪除\n"
     ]
    }
   ],
   "source": [
    "es.indices.delete(index=index_name)\n",
    "print(f\"🗑️ 索引 '{index_name}' 已刪除\")\n"
   ]
  },
  {
   "cell_type": "code",
   "execution_count": null,
   "metadata": {},
   "outputs": [],
   "source": []
  },
  {
   "cell_type": "code",
   "execution_count": 3,
   "metadata": {},
   "outputs": [],
   "source": []
  },
  {
   "cell_type": "code",
   "execution_count": null,
   "metadata": {},
   "outputs": [],
   "source": []
  }
 ],
 "metadata": {
  "kernelspec": {
   "display_name": "Python 3",
   "language": "python",
   "name": "python3"
  },
  "language_info": {
   "codemirror_mode": {
    "name": "ipython",
    "version": 3
   },
   "file_extension": ".py",
   "mimetype": "text/x-python",
   "name": "python",
   "nbconvert_exporter": "python",
   "pygments_lexer": "ipython3",
   "version": "3.13.1"
  }
 },
 "nbformat": 4,
 "nbformat_minor": 2
}
