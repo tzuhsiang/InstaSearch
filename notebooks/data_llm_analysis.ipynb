{
 "cells": [
  {
   "cell_type": "code",
   "execution_count": 14,
   "metadata": {},
   "outputs": [],
   "source": [
    "import os\n",
    "import json\n",
    "import requests\n",
    "\n",
    "langflow_api=\"http://localhost:7860/api/v1/run/98733f0b-b5a7-49b0-9a3f-50e6b2b84264?stream=false\"\n",
    "# langflow_api=\"http://localhost:7860/api/v1/run/3609db05-62d9-4cec-8dd6-5f9a2fdde803?stream=false\""
   ]
  },
  {
   "cell_type": "code",
   "execution_count": 38,
   "metadata": {},
   "outputs": [],
   "source": [
    "text=[\"2025-02-05T13:26:00🚩台北大安#台菜餐廳 一看到招牌菜 #大來小封肉 立刻點，肥瘦剛剛好入口即化🤤此頓印象最深的佳餚。滷肉飯屬於碎肉型不愛，還是喜歡有肉感咬得到肥瘦肉的滋味；虱目魚肚湯魚肉飽滿、湯也鮮，但是有魚骨頭實在是吃得辛苦😓\"]"
   ]
  },
  {
   "cell_type": "code",
   "execution_count": null,
   "metadata": {},
   "outputs": [],
   "source": [
    "headers = {\"Content-Type\": \"application/json\"}\n",
    "data={\"input_value\": json.dumps(text)}\n",
    "response=requests.post(langflow_api, headers=headers, json=data)\n",
    "content=response.json()"
   ]
  },
  {
   "cell_type": "code",
   "execution_count": 44,
   "metadata": {},
   "outputs": [
    {
     "ename": "KeyError",
     "evalue": "'outputs'",
     "output_type": "error",
     "traceback": [
      "\u001b[0;31m---------------------------------------------------------------------------\u001b[0m",
      "\u001b[0;31mKeyError\u001b[0m                                  Traceback (most recent call last)",
      "Cell \u001b[0;32mIn[44], line 1\u001b[0m\n\u001b[0;32m----> 1\u001b[0m a\u001b[38;5;241m=\u001b[39m\u001b[43mcontent\u001b[49m\u001b[43m[\u001b[49m\u001b[38;5;124;43m\"\u001b[39;49m\u001b[38;5;124;43moutputs\u001b[39;49m\u001b[38;5;124;43m\"\u001b[39;49m\u001b[43m]\u001b[49m[\u001b[38;5;241m0\u001b[39m][\u001b[38;5;124m\"\u001b[39m\u001b[38;5;124moutputs\u001b[39m\u001b[38;5;124m\"\u001b[39m][\u001b[38;5;241m0\u001b[39m][\u001b[38;5;124m\"\u001b[39m\u001b[38;5;124mresults\u001b[39m\u001b[38;5;124m\"\u001b[39m][\u001b[38;5;124m\"\u001b[39m\u001b[38;5;124mmessage\u001b[39m\u001b[38;5;124m\"\u001b[39m][\u001b[38;5;124m\"\u001b[39m\u001b[38;5;124mtext\u001b[39m\u001b[38;5;124m\"\u001b[39m]\n",
      "\u001b[0;31mKeyError\u001b[0m: 'outputs'"
     ]
    }
   ],
   "source": [
    "a=content[\"outputs\"][0][\"outputs\"][0][\"results\"][\"message\"][\"text\"]"
   ]
  },
  {
   "cell_type": "code",
   "execution_count": 41,
   "metadata": {},
   "outputs": [
    {
     "data": {
      "text/plain": [
       "str"
      ]
     },
     "execution_count": 41,
     "metadata": {},
     "output_type": "execute_result"
    }
   ],
   "source": [
    "type(a)"
   ]
  },
  {
   "cell_type": "code",
   "execution_count": 26,
   "metadata": {},
   "outputs": [
    {
     "name": "stdout",
     "output_type": "stream",
     "text": [
      "- 用餐時間：2025-02-05\n",
      "- 用餐地點：台北\n",
      "- 料理類型：台式\n",
      "- 食物分類：餐廳料理\n",
      "- 心得摘要：此次用餐選擇了位於台北大安區的一家台菜餐廳。當看到招牌菜「大來小封肉」時，立刻點了這道菜，油脂分布均勻，入口即化，成為此餐最深刻的佳餚。滷肉飯屬於碎肉型，個人偏好有肉感的肥瘦相間的口感。蚵仔魚肚湯魚肉豐滿，湯頭鮮美，但因有魚骨，食用過程稍顯辛苦。整體而言，這次用餐體驗令人滿意，尤其是「大來小封肉」給人留下了深刻的印象，推薦給喜愛台式料理的朋友。\n",
      "- 整體評分：85分\n"
     ]
    }
   ],
   "source": [
    "print(content[\"outputs\"][0][\"outputs\"][0][\"results\"][\"message\"][\"text\"])"
   ]
  },
  {
   "cell_type": "code",
   "execution_count": 51,
   "metadata": {},
   "outputs": [],
   "source": [
    "def call_langflow_api(api_url, text):\n",
    "    \"\"\"調用 Langflow API\"\"\"\n",
    "    headers = {\"Content-Type\": \"application/json\"}\n",
    "    data={\"input_value\": json.dumps(text)}\n",
    "    response=requests.post(api_url, headers=headers, json=data)\n",
    "    content=response.json()\n",
    "    result=content[\"outputs\"][0][\"outputs\"][0][\"results\"][\"message\"][\"text\"]\n",
    "    return result"
   ]
  },
  {
   "cell_type": "code",
   "execution_count": 52,
   "metadata": {},
   "outputs": [],
   "source": [
    "b=call_langflow_api(langflow_api, json.dumps(text))"
   ]
  },
  {
   "cell_type": "code",
   "execution_count": 53,
   "metadata": {},
   "outputs": [
    {
     "data": {
      "text/plain": [
       "str"
      ]
     },
     "execution_count": 53,
     "metadata": {},
     "output_type": "execute_result"
    }
   ],
   "source": [
    "type(b)"
   ]
  },
  {
   "cell_type": "code",
   "execution_count": 36,
   "metadata": {},
   "outputs": [
    {
     "data": {
      "text/plain": [
       "'[\"2025-02-05T13:26:00\\\\ud83d\\\\udea9\\\\u53f0\\\\u5317\\\\u5927\\\\u5b89#\\\\u53f0\\\\u83dc\\\\u9910\\\\u5ef3 \\\\u4e00\\\\u770b\\\\u5230\\\\u62db\\\\u724c\\\\u83dc #\\\\u5927\\\\u4f86\\\\u5c0f\\\\u5c01\\\\u8089 \\\\u7acb\\\\u523b\\\\u9ede\\\\uff0c\\\\u80a5\\\\u7626\\\\u525b\\\\u525b\\\\u597d\\\\u5165\\\\u53e3\\\\u5373\\\\u5316\\\\ud83e\\\\udd24\\\\u6b64\\\\u9813\\\\u5370\\\\u8c61\\\\u6700\\\\u6df1\\\\u7684\\\\u4f73\\\\u991a\\\\u3002\\\\u6ef7\\\\u8089\\\\u98ef\\\\u5c6c\\\\u65bc\\\\u788e\\\\u8089\\\\u578b\\\\u4e0d\\\\u611b\\\\uff0c\\\\u9084\\\\u662f\\\\u559c\\\\u6b61\\\\u6709\\\\u8089\\\\u611f\\\\u54ac\\\\u5f97\\\\u5230\\\\u80a5\\\\u7626\\\\u8089\\\\u7684\\\\u6ecb\\\\u5473\\\\uff1b\\\\u8671\\\\u76ee\\\\u9b5a\\\\u809a\\\\u6e6f\\\\u9b5a\\\\u8089\\\\u98fd\\\\u6eff\\\\u3001\\\\u6e6f\\\\u4e5f\\\\u9bae\\\\uff0c\\\\u4f46\\\\u662f\\\\u6709\\\\u9b5a\\\\u9aa8\\\\u982d\\\\u5be6\\\\u5728\\\\u662f\\\\u5403\\\\u5f97\\\\u8f9b\\\\u82e6\\\\ud83d\\\\ude13\"]'"
      ]
     },
     "execution_count": 36,
     "metadata": {},
     "output_type": "execute_result"
    }
   ],
   "source": [
    "json.dumps(text)"
   ]
  },
  {
   "cell_type": "code",
   "execution_count": 37,
   "metadata": {},
   "outputs": [
    {
     "data": {
      "text/plain": [
       "['2025-02-05T13:26:00🚩台北大安#台菜餐廳 一看到招牌菜 #大來小封肉 立刻點，肥瘦剛剛好入口即化🤤此頓印象最深的佳餚。滷肉飯屬於碎肉型不愛，還是喜歡有肉感咬得到肥瘦肉的滋味；虱目魚肚湯魚肉飽滿、湯也鮮，但是有魚骨頭實在是吃得辛苦😓']"
      ]
     },
     "execution_count": 37,
     "metadata": {},
     "output_type": "execute_result"
    }
   ],
   "source": [
    "text"
   ]
  },
  {
   "cell_type": "code",
   "execution_count": null,
   "metadata": {},
   "outputs": [],
   "source": []
  }
 ],
 "metadata": {
  "kernelspec": {
   "display_name": ".venv",
   "language": "python",
   "name": "python3"
  },
  "language_info": {
   "codemirror_mode": {
    "name": "ipython",
    "version": 3
   },
   "file_extension": ".py",
   "mimetype": "text/x-python",
   "name": "python",
   "nbconvert_exporter": "python",
   "pygments_lexer": "ipython3",
   "version": "3.13.1"
  }
 },
 "nbformat": 4,
 "nbformat_minor": 2
}
